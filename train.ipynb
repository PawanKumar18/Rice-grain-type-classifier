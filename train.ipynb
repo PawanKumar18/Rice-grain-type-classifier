{
 "cells": [
  {
   "cell_type": "code",
   "execution_count": 2,
   "metadata": {},
   "outputs": [
    {
     "name": "stderr",
     "output_type": "stream",
     "text": [
      "Using TensorFlow backend.\n"
     ]
    }
   ],
   "source": [
    "from PIL import Image\n",
    "import numpy as np\n",
    "import os\n",
    "import cv2\n",
    "import keras\n",
    "from keras.utils import np_utils\n",
    "from keras.models import Sequential\n",
    "from keras.layers import Conv2D,MaxPooling2D,Dense,Flatten,Dropout"
   ]
  },
  {
   "cell_type": "code",
   "execution_count": 3,
   "metadata": {},
   "outputs": [],
   "source": [
    "data = []\n",
    "labels = []\n",
    "\n",
    "# basmati=os.listdir(\"C:\\\\Users\\\\Pawan Kumar\\\\Downloads\\\\rice\\\\basmati rice\")\n",
    "\n",
    "\n",
    "for i in range(1, 256):\n",
    "    imag = cv2.imread(\"C:\\\\Users\\\\Pawan Kumar\\\\Desktop\\\\rice\\\\basmati rice\\\\\" + str(i) + \".jpg\")\n",
    "    if imag is not None:\n",
    "        resized_image = cv2.resize(imag, (50, 50))\n",
    "        data.append(np.array(resized_image))\n",
    "        labels.append(0)\n",
    "\n",
    "for i in range(1, 157):\n",
    "    imag = cv2.imread(\"C:\\\\Users\\\\Pawan Kumar\\\\Desktop\\\\rice\\\\Ponni rice\\\\\" + str(i) + \".jpg\")\n",
    "    if imag is not None:\n",
    "        resized_image = cv2.resize(imag, (50, 50))\n",
    "        data.append(np.array(resized_image))\n",
    "        labels.append(1)\n",
    "\n",
    "for i in range(1, 131):\n",
    "    imag = cv2.imread(\"C:\\\\Users\\\\Pawan Kumar\\\\Desktop\\\\rice\\\\sona masoori rice\\\\\" + str(i) + \".jpg\")\n",
    "    if imag is not None:\n",
    "        resized_image = cv2.resize(imag, (50, 50))\n",
    "        data.append(np.array(resized_image))\n",
    "        labels.append(2)"
   ]
  },
  {
   "cell_type": "code",
   "execution_count": 5,
   "metadata": {},
   "outputs": [],
   "source": [
    "rice=np.array(data)\n",
    "labels=np.array(labels)\n",
    "\n",
    "np.save(\"rice\",rice)\n",
    "np.save(\"labels\",labels)\n",
    "\n",
    "rice=np.load(\"rice.npy\")\n",
    "labels=np.load(\"labels.npy\")\n"
   ]
  },
  {
   "cell_type": "code",
   "execution_count": 6,
   "metadata": {},
   "outputs": [
    {
     "name": "stdout",
     "output_type": "stream",
     "text": [
      "num_classes =  3\n",
      "data_length =  540\n"
     ]
    }
   ],
   "source": [
    "s=np.arange(rice.shape[0])\n",
    "np.random.shuffle(s)\n",
    "rice=rice[s]\n",
    "labels=labels[s]\n",
    "\n",
    "num_classes=len(np.unique(labels))\n",
    "data_length=len(rice)\n",
    "print(\"num_classes = \",num_classes)\n",
    "print(\"data_length = \",data_length)\n"
   ]
  },
  {
   "cell_type": "code",
   "execution_count": 13,
   "metadata": {},
   "outputs": [],
   "source": [
    "(x_train,x_test)=rice[(int)(0.1*data_length):],rice[:(int)(0.1*data_length)]\n",
    "x_train = x_train.astype('float32')/255\n",
    "x_test = x_test.astype('float32')/255\n",
    "train_length=len(x_train)\n",
    "test_length=len(x_test)\n",
    "\n",
    "(y_train,y_test)=labels[(int)(0.1*data_length):],labels[:(int)(0.1*data_length)]\n",
    "\n",
    "#One hot encoding\n",
    "y_train=keras.utils.to_categorical(y_train,num_classes)\n",
    "y_test=keras.utils.to_categorical(y_test,num_classes)"
   ]
  },
  {
   "cell_type": "code",
   "execution_count": 14,
   "metadata": {},
   "outputs": [
    {
     "name": "stdout",
     "output_type": "stream",
     "text": [
      "_________________________________________________________________\n",
      "Layer (type)                 Output Shape              Param #   \n",
      "=================================================================\n",
      "conv2d_1 (Conv2D)            (None, 50, 50, 16)        208       \n",
      "_________________________________________________________________\n",
      "max_pooling2d_1 (MaxPooling2 (None, 25, 25, 16)        0         \n",
      "_________________________________________________________________\n",
      "conv2d_2 (Conv2D)            (None, 25, 25, 32)        2080      \n",
      "_________________________________________________________________\n",
      "max_pooling2d_2 (MaxPooling2 (None, 12, 12, 32)        0         \n",
      "_________________________________________________________________\n",
      "conv2d_3 (Conv2D)            (None, 12, 12, 64)        8256      \n",
      "_________________________________________________________________\n",
      "max_pooling2d_3 (MaxPooling2 (None, 6, 6, 64)          0         \n",
      "_________________________________________________________________\n",
      "dropout_1 (Dropout)          (None, 6, 6, 64)          0         \n",
      "_________________________________________________________________\n",
      "flatten_1 (Flatten)          (None, 2304)              0         \n",
      "_________________________________________________________________\n",
      "dense_1 (Dense)              (None, 500)               1152500   \n",
      "_________________________________________________________________\n",
      "dropout_2 (Dropout)          (None, 500)               0         \n",
      "_________________________________________________________________\n",
      "dense_2 (Dense)              (None, 3)                 1503      \n",
      "=================================================================\n",
      "Total params: 1,164,547\n",
      "Trainable params: 1,164,547\n",
      "Non-trainable params: 0\n",
      "_________________________________________________________________\n"
     ]
    }
   ],
   "source": [
    "model=Sequential()\n",
    "model.add(Conv2D(filters=16,kernel_size=2,padding=\"same\",activation=\"relu\",input_shape=(50,50,3)))\n",
    "model.add(MaxPooling2D(pool_size=2))\n",
    "model.add(Conv2D(filters=32,kernel_size=2,padding=\"same\",activation=\"relu\"))\n",
    "model.add(MaxPooling2D(pool_size=2))\n",
    "model.add(Conv2D(filters=64,kernel_size=2,padding=\"same\",activation=\"relu\"))\n",
    "model.add(MaxPooling2D(pool_size=2))\n",
    "model.add(Dropout(0.2))\n",
    "model.add(Flatten())\n",
    "model.add(Dense(500,activation=\"relu\"))\n",
    "model.add(Dropout(0.2))\n",
    "model.add(Dense(3,activation=\"softmax\"))\n",
    "model.summary()"
   ]
  },
  {
   "cell_type": "code",
   "execution_count": 27,
   "metadata": {},
   "outputs": [],
   "source": [
    "adam = keras.optimizers.adam(lr=0.000000001)\n",
    "model.compile(loss='categorical_crossentropy', optimizer='adam',\n",
    "                  metrics=['accuracy'])"
   ]
  },
  {
   "cell_type": "code",
   "execution_count": 28,
   "metadata": {},
   "outputs": [
    {
     "name": "stdout",
     "output_type": "stream",
     "text": [
      "Train on 486 samples, validate on 54 samples\n",
      "Epoch 1/35\n",
      "486/486 [==============================] - 3s 6ms/step - loss: 0.1980 - acc: 0.9218 - val_loss: 1.0799 - val_acc: 0.7593\n",
      "Epoch 2/35\n",
      "486/486 [==============================] - 2s 4ms/step - loss: 0.1684 - acc: 0.9342 - val_loss: 0.8607 - val_acc: 0.7778\n",
      "Epoch 3/35\n",
      "486/486 [==============================] - 2s 4ms/step - loss: 0.1224 - acc: 0.9547 - val_loss: 0.7356 - val_acc: 0.7778\n",
      "Epoch 4/35\n",
      "486/486 [==============================] - 2s 4ms/step - loss: 0.0650 - acc: 0.9918 - val_loss: 0.6712 - val_acc: 0.8704\n",
      "Epoch 5/35\n",
      "486/486 [==============================] - 2s 4ms/step - loss: 0.0674 - acc: 0.9774 - val_loss: 0.6171 - val_acc: 0.7778\n",
      "Epoch 6/35\n",
      "486/486 [==============================] - 2s 4ms/step - loss: 0.0607 - acc: 0.9918 - val_loss: 0.5779 - val_acc: 0.8148\n",
      "Epoch 7/35\n",
      "486/486 [==============================] - 3s 6ms/step - loss: 0.0502 - acc: 0.9856 - val_loss: 0.4983 - val_acc: 0.8889\n",
      "Epoch 8/35\n",
      "486/486 [==============================] - 3s 6ms/step - loss: 0.0462 - acc: 0.9918 - val_loss: 0.4990 - val_acc: 0.8704\n",
      "Epoch 9/35\n",
      "486/486 [==============================] - 3s 6ms/step - loss: 0.0488 - acc: 0.9877 - val_loss: 0.5090 - val_acc: 0.8704\n",
      "Epoch 10/35\n",
      "486/486 [==============================] - 2s 5ms/step - loss: 0.0358 - acc: 0.9938 - val_loss: 0.5795 - val_acc: 0.9074\n",
      "Epoch 11/35\n",
      "486/486 [==============================] - 2s 5ms/step - loss: 0.0489 - acc: 0.9897 - val_loss: 0.4391 - val_acc: 0.8889\n",
      "Epoch 12/35\n",
      "486/486 [==============================] - 2s 5ms/step - loss: 0.0521 - acc: 0.9835 - val_loss: 0.5124 - val_acc: 0.8704\n",
      "Epoch 13/35\n",
      "486/486 [==============================] - 2s 5ms/step - loss: 0.0352 - acc: 0.9918 - val_loss: 0.5247 - val_acc: 0.9074\n",
      "Epoch 14/35\n",
      "486/486 [==============================] - 3s 5ms/step - loss: 0.0412 - acc: 0.9877 - val_loss: 0.5333 - val_acc: 0.8889\n",
      "Epoch 15/35\n",
      "486/486 [==============================] - 2s 4ms/step - loss: 0.0473 - acc: 0.9918 - val_loss: 0.4509 - val_acc: 0.9074\n",
      "Epoch 16/35\n",
      "486/486 [==============================] - 2s 5ms/step - loss: 0.0366 - acc: 0.9959 - val_loss: 0.5753 - val_acc: 0.8704\n",
      "Epoch 17/35\n",
      "486/486 [==============================] - 3s 5ms/step - loss: 0.0442 - acc: 0.9938 - val_loss: 0.5536 - val_acc: 0.8519\n",
      "Epoch 18/35\n",
      "486/486 [==============================] - 3s 6ms/step - loss: 0.0352 - acc: 0.9938 - val_loss: 0.6240 - val_acc: 0.8519\n",
      "Epoch 19/35\n",
      "486/486 [==============================] - 3s 6ms/step - loss: 0.0363 - acc: 0.9938 - val_loss: 0.5784 - val_acc: 0.8889\n",
      "Epoch 20/35\n",
      "486/486 [==============================] - 4s 7ms/step - loss: 0.0230 - acc: 0.9938 - val_loss: 0.5542 - val_acc: 0.8519\n",
      "Epoch 21/35\n",
      "486/486 [==============================] - 3s 6ms/step - loss: 0.0279 - acc: 0.9959 - val_loss: 0.4986 - val_acc: 0.8519\n",
      "Epoch 22/35\n",
      "486/486 [==============================] - 3s 7ms/step - loss: 0.0222 - acc: 1.0000 - val_loss: 0.5657 - val_acc: 0.8704\n",
      "Epoch 23/35\n",
      "486/486 [==============================] - 3s 6ms/step - loss: 0.0238 - acc: 0.9959 - val_loss: 0.5426 - val_acc: 0.8519\n",
      "Epoch 24/35\n",
      "486/486 [==============================] - 2s 5ms/step - loss: 0.0333 - acc: 0.9897 - val_loss: 0.6020 - val_acc: 0.9074\n",
      "Epoch 25/35\n",
      "486/486 [==============================] - 3s 5ms/step - loss: 0.0281 - acc: 0.9938 - val_loss: 0.5834 - val_acc: 0.8333\n",
      "Epoch 26/35\n",
      "486/486 [==============================] - 2s 5ms/step - loss: 0.0259 - acc: 0.9938 - val_loss: 0.4630 - val_acc: 0.9074\n",
      "Epoch 27/35\n",
      "486/486 [==============================] - 2s 5ms/step - loss: 0.0234 - acc: 0.9979 - val_loss: 0.4969 - val_acc: 0.9074\n",
      "Epoch 28/35\n",
      "486/486 [==============================] - 2s 5ms/step - loss: 0.0305 - acc: 0.9918 - val_loss: 0.6034 - val_acc: 0.8519\n",
      "Epoch 29/35\n",
      "486/486 [==============================] - 3s 5ms/step - loss: 0.0230 - acc: 0.9959 - val_loss: 0.6046 - val_acc: 0.8333\n",
      "Epoch 30/35\n",
      "486/486 [==============================] - 3s 6ms/step - loss: 0.0213 - acc: 0.9979 - val_loss: 0.6467 - val_acc: 0.8519\n",
      "Epoch 31/35\n",
      "486/486 [==============================] - 2s 4ms/step - loss: 0.0193 - acc: 0.9979 - val_loss: 0.5404 - val_acc: 0.8889\n",
      "Epoch 32/35\n",
      "486/486 [==============================] - 3s 5ms/step - loss: 0.0282 - acc: 0.9938 - val_loss: 0.5278 - val_acc: 0.8889\n",
      "Epoch 33/35\n",
      "486/486 [==============================] - 2s 5ms/step - loss: 0.0218 - acc: 0.9938 - val_loss: 0.4344 - val_acc: 0.9074\n",
      "Epoch 34/35\n",
      "486/486 [==============================] - 2s 5ms/step - loss: 0.0197 - acc: 0.9959 - val_loss: 0.4335 - val_acc: 0.8889\n",
      "Epoch 35/35\n",
      "486/486 [==============================] - 2s 5ms/step - loss: 0.0162 - acc: 0.9979 - val_loss: 0.4582 - val_acc: 0.9074\n",
      "54/54 [==============================] - 0s 2ms/step\n",
      "Test loss: 0.4582447544844062\n",
      "Test accuracy: 0.9074074074074074\n"
     ]
    }
   ],
   "source": [
    "model.fit(\n",
    "\tx=x_train,\n",
    "\ty=y_train,\n",
    "    epochs=35,\n",
    "    batch_size=128,\n",
    "    validation_data= (x_test, y_test))\n",
    "\n",
    "score = model.evaluate(\n",
    "\tx=x_test,\n",
    "\ty=y_test)\n",
    "\n",
    "print('Test loss:', score[0])\n",
    "print('Test accuracy:', score[1])\n"
   ]
  },
  {
   "cell_type": "code",
   "execution_count": 29,
   "metadata": {},
   "outputs": [],
   "source": [
    "##model.save(\"ri.h5\")"
   ]
  },
  {
   "cell_type": "code",
   "execution_count": null,
   "metadata": {},
   "outputs": [],
   "source": []
  }
 ],
 "metadata": {
  "kernelspec": {
   "display_name": "Python 3",
   "language": "python",
   "name": "python3"
  },
  "language_info": {
   "codemirror_mode": {
    "name": "ipython",
    "version": 3
   },
   "file_extension": ".py",
   "mimetype": "text/x-python",
   "name": "python",
   "nbconvert_exporter": "python",
   "pygments_lexer": "ipython3",
   "version": "3.6.5"
  }
 },
 "nbformat": 4,
 "nbformat_minor": 2
}
